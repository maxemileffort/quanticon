{
 "cells": [
  {
   "cell_type": "code",
   "execution_count": null,
   "id": "b9db8c4f",
   "metadata": {},
   "outputs": [],
   "source": [
    "import pandas as pd\n",
    "import numpy as np\n",
    "import requests\n",
    "import os\n",
    "from dotenv import load_dotenv\n",
    "import json\n",
    "import matplotlib.pyplot as plt\n",
    "\n",
    "load_dotenv()"
   ]
  },
  {
   "cell_type": "code",
   "execution_count": null,
   "id": "d1e56e00",
   "metadata": {},
   "outputs": [],
   "source": [
    "API_KEY = os.getenv('ODDS_API_KEY')\n",
    "BASE_URL = os.getenv('ODDS_API_BASE_URL')"
   ]
  },
  {
   "cell_type": "code",
   "execution_count": null,
   "id": "ba6b9f23",
   "metadata": {},
   "outputs": [],
   "source": [
    "odds_api_get_sports = f'{BASE_URL}/v4/sports/?apiKey={API_KEY}'\n",
    "\n",
    "r = requests.get(odds_api_get_sports)"
   ]
  },
  {
   "cell_type": "code",
   "execution_count": null,
   "id": "b684e1f5",
   "metadata": {},
   "outputs": [],
   "source": [
    "sport_keys = []\n",
    "for sport in r.json():\n",
    "    \n",
    "    print(sport['key'])\n",
    "    sport_keys.append(sport['key'])"
   ]
  },
  {
   "cell_type": "code",
   "execution_count": null,
   "id": "1485b03c",
   "metadata": {},
   "outputs": [],
   "source": [
    "t_sport_keys = [sk for sk in sport_keys if sk.startswith('mma')]\n",
    "t_sport_keys"
   ]
  },
  {
   "cell_type": "code",
   "execution_count": null,
   "id": "a34aa76e",
   "metadata": {},
   "outputs": [],
   "source": [
    "odds_api_get_odds = f'{BASE_URL}/v4/sports/{t_sport_keys[0]}/odds/?apiKey={API_KEY}&regions=us,us2&markets=h2h,spreads,totals'\n",
    "odds_api_get_odds"
   ]
  },
  {
   "cell_type": "code",
   "execution_count": null,
   "id": "a8f064a5",
   "metadata": {},
   "outputs": [],
   "source": [
    "r2 = requests.get(odds_api_get_odds)\n",
    "\n",
    "r2.json()"
   ]
  },
  {
   "cell_type": "code",
   "execution_count": null,
   "id": "e03addfe",
   "metadata": {},
   "outputs": [],
   "source": [
    "for card in r2.json():\n",
    "    print(card)\n",
    "    print('========================')"
   ]
  },
  {
   "cell_type": "code",
   "execution_count": null,
   "id": "773f26f4",
   "metadata": {},
   "outputs": [],
   "source": [
    "from datetime import datetime\n",
    "\n",
    "today_str = datetime.today().strftime('%Y-%m-%d')\n",
    "\n",
    "r2_text = json.dumps(r2.json())\n",
    "with open(f'./odds_data/{today_str}_{t_sport_keys[0]}_odds.txt','w') as outfile:\n",
    "    outfile.write(r2_text)"
   ]
  },
  {
   "cell_type": "code",
   "execution_count": null,
   "id": "0f355988",
   "metadata": {},
   "outputs": [],
   "source": [
    "data = r2.json()"
   ]
  },
  {
   "cell_type": "code",
   "execution_count": null,
   "id": "152e6013",
   "metadata": {},
   "outputs": [],
   "source": [
    "rows = []\n",
    "for event in data:\n",
    "    for bookmaker in event[\"bookmakers\"]:\n",
    "        for market in bookmaker[\"markets\"]:\n",
    "            if market[\"key\"] == \"h2h\":\n",
    "                for outcome in market[\"outcomes\"]:\n",
    "                    rows.append({\n",
    "                        \"fight\": f\"{event['home_team']} vs {event['away_team']}\",\n",
    "                        \"commence_time\": event[\"commence_time\"],\n",
    "                        \"bookmaker\": bookmaker[\"title\"],\n",
    "                        \"fighter\": outcome[\"name\"],\n",
    "                        \"decimal_odds\": outcome[\"price\"],\n",
    "                        \"implied_prob\": 1.0 / float(outcome[\"price\"]),\n",
    "                    })\n",
    "            elif market[\"key\"] == \"totals\":\n",
    "                for outcome in market[\"outcomes\"]:\n",
    "                    rows.append({\n",
    "                        \"fight\": f\"{event['home_team']} vs {event['away_team']}\",\n",
    "                        \"commence_time\": event[\"commence_time\"],\n",
    "                        \"bookmaker\": bookmaker[\"title\"],\n",
    "                        \"fighter\": f'{outcome[\"name\"]} {outcome[\"point\"]}',\n",
    "                        \"decimal_odds\": outcome[\"price\"],\n",
    "                        \"implied_prob\": 1.0 / float(outcome[\"price\"]),\n",
    "                    })\n",
    "\n",
    "df = pd.DataFrame(rows)\n",
    "df['commence_time'] = pd.to_datetime(df['commence_time'])\n",
    "print(df.head(10))"
   ]
  },
  {
   "cell_type": "code",
   "execution_count": null,
   "id": "65e96b54",
   "metadata": {},
   "outputs": [],
   "source": [
    "df_old = df.copy()\n",
    "# current date (UTC) + 30 days\n",
    "cutoff = pd.Timestamp.now(tz=\"UTC\") + pd.Timedelta(days=30)\n",
    "df = df.loc[df['commence_time'] <= cutoff].reset_index(drop=True)"
   ]
  },
  {
   "cell_type": "code",
   "execution_count": null,
   "id": "693236c6",
   "metadata": {},
   "outputs": [],
   "source": [
    "import seaborn as sns\n",
    "\n",
    "# Pivot so fighters are rows and bookmakers are columns\n",
    "pivot_df = df.pivot_table(\n",
    "    index=[\"fight\", \"fighter\"],\n",
    "    columns=\"bookmaker\",\n",
    "    values=\"decimal_odds\"\n",
    ")\n",
    "\n",
    "plt.figure(figsize=(12,16))\n",
    "sns.heatmap(pivot_df, annot=True, cmap=\"coolwarm\", fmt=\".2f\")\n",
    "plt.title(\"MMA Fight Odds Across Bookmakers\")\n",
    "plt.ylabel(\"Fight / Fighter\")\n",
    "plt.xlabel(\"Bookmaker\")\n",
    "plt.show()\n"
   ]
  },
  {
   "cell_type": "code",
   "execution_count": null,
   "id": "2b9dd9ad",
   "metadata": {},
   "outputs": [],
   "source": [
    "# # 0) Setup\n",
    "# from pathlib import Path\n",
    "\n",
    "# PATH = Path(\"./odds_data/2025-09-02_mma_mixed_martial_arts.txt\")  # your uploaded file\n",
    "\n",
    "\n",
    "# # 1) Load -> tidy DataFrame (H2H only)\n",
    "# def load_odds(path: str | Path) -> pd.DataFrame:\n",
    "#     data = json.loads(Path(path).read_text(encoding=\"utf-8\"))\n",
    "#     rows = []\n",
    "#     for ev in data:\n",
    "#         fight = f\"{ev['home_team']} vs {ev['away_team']}\"\n",
    "#         start = ev[\"commence_time\"]\n",
    "#         for bm in ev.get(\"bookmakers\", []):\n",
    "#             bm_name = bm.get(\"title\") or bm.get(\"key\")\n",
    "#             for m in bm.get(\"markets\", []):\n",
    "#                 if m.get(\"key\") != \"h2h\":\n",
    "#                     continue\n",
    "#                 for out in m.get(\"outcomes\", []):\n",
    "#                     rows.append({\n",
    "#                         \"fight\": fight,\n",
    "#                         \"commence_time\": start,\n",
    "#                         \"bookmaker\": bm_name,\n",
    "#                         \"fighter\": out[\"name\"],\n",
    "#                         \"decimal_odds\": float(out[\"price\"]),\n",
    "#                         \"implied_prob\": 1.0 / float(out[\"price\"])\n",
    "#                     })\n",
    "#     df = pd.DataFrame(rows)\n",
    "#     return df.sort_values([\"fight\", \"bookmaker\", \"fighter\"]).reset_index(drop=True)\n",
    "\n",
    "# df = load_odds(PATH)\n",
    "# df['commence_time'] = pd.to_datetime(df['commence_time'])\n",
    "\n",
    "# # current date (UTC) + 30 days\n",
    "# cutoff = pd.Timestamp.now(tz=\"UTC\") + pd.Timedelta(days=30)\n",
    "# df = df.loc[df['commence_time'] <= cutoff].reset_index(drop=True)\n",
    "\n",
    "# df.head()\n"
   ]
  },
  {
   "cell_type": "code",
   "execution_count": null,
   "id": "81d2d58a",
   "metadata": {},
   "outputs": [],
   "source": [
    "# 2) Fix the earlier bar plotting issue by pivoting (prevents overwrites)\n",
    "#    -> one grouped bar chart per fight, all fights automatically\n",
    "def plot_all_fights_grouped(df: pd.DataFrame, value_col: str = \"decimal_odds\"):\n",
    "    fights = df[\"fight\"].unique()\n",
    "    for fight in fights:\n",
    "        sub = df[df[\"fight\"] == fight].copy()\n",
    "        # pivot: rows=fighter, cols=bookmaker\n",
    "        pivot = sub.pivot_table(index=\"fighter\", columns=\"bookmaker\", values=value_col, aggfunc=\"first\")\n",
    "        # consistent bookmaker order\n",
    "        bookmakers = list(pivot.columns)\n",
    "        fighters = list(pivot.index)\n",
    "\n",
    "        # grouped bars: x = bookmakers, 2 bars (or more) per bookmaker, one per fighter\n",
    "        import numpy as np\n",
    "        x = np.arange(len(bookmakers))\n",
    "        width = 0.8 / max(2, len(fighters))  # spread bars across each bookmaker\n",
    "\n",
    "        plt.figure(figsize=(10, 6))\n",
    "        for i, fighter in enumerate(fighters):\n",
    "            y = pivot.loc[fighter, bookmakers].values.astype(float)\n",
    "            plt.bar(x + (i - (len(fighters)-1)/2)*width, y, width=width, label=fighter)\n",
    "\n",
    "        yl = \"Decimal Odds\" if value_col == \"decimal_odds\" else \"Implied Probability\"\n",
    "        plt.title(f\"Odds across Books — {fight}\")\n",
    "        plt.xlabel(\"Bookmaker\")\n",
    "        plt.ylabel(yl)\n",
    "        plt.xticks(x, bookmakers, rotation=35, ha=\"right\")\n",
    "        plt.legend()\n",
    "        plt.tight_layout()\n",
    "        plt.show()\n",
    "\n",
    "# Example: decimal odds charts for all fights\n",
    "plot_all_fights_grouped(df, value_col=\"decimal_odds\")\n"
   ]
  },
  {
   "cell_type": "code",
   "execution_count": null,
   "id": "a32b03ac",
   "metadata": {},
   "outputs": [],
   "source": [
    "# Example: implied probabilities (0–1) for all fights\n",
    "plot_all_fights_grouped(df, value_col=\"implied_prob\")"
   ]
  },
  {
   "cell_type": "code",
   "execution_count": null,
   "id": "a90b3fa9",
   "metadata": {},
   "outputs": [],
   "source": [
    "# 3) Optional: “best price by fighter” table (useful for line shopping)\n",
    "def best_prices(df: pd.DataFrame) -> pd.DataFrame:\n",
    "    idx = df.groupby([\"fight\", \"fighter\"])[\"decimal_odds\"].idxmax()\n",
    "    best = df.loc[idx, [\"fight\", \"fighter\", \"decimal_odds\", \"bookmaker\"]].sort_values([\"fight\",\"fighter\"])\n",
    "    best = best.rename(columns={\"decimal_odds\": \"best_decimal\", \"bookmaker\": \"best_book\"})\n",
    "    return best.reset_index(drop=True)\n",
    "\n",
    "best_prices(df)\n"
   ]
  },
  {
   "cell_type": "code",
   "execution_count": null,
   "id": "c5d8ab19",
   "metadata": {},
   "outputs": [],
   "source": [
    "# 4) Optional: quick market snapshot per fight (favorite vs underdog, average prices)\n",
    "def market_snapshot(df: pd.DataFrame) -> pd.DataFrame:\n",
    "    # average decimal odds per fighter\n",
    "    avg = (df.groupby([\"fight\", \"fighter\"])[\"decimal_odds\"]\n",
    "             .mean()\n",
    "             .rename(\"avg_decimal\")\n",
    "             .reset_index())\n",
    "    # favorite/underdog label within each fight\n",
    "    avg[\"rank\"] = avg.groupby(\"fight\")[\"avg_decimal\"].rank(method=\"first\")\n",
    "    avg[\"role\"] = avg.groupby(\"fight\")[\"avg_decimal\"].transform(lambda s: [\"favorite\" if x==s.min() else \"underdog\" for x in s])\n",
    "    return avg.sort_values([\"fight\",\"role\",\"avg_decimal\"]).reset_index(drop=True)\n",
    "\n",
    "snap = market_snapshot(df)\n",
    "snap\n"
   ]
  },
  {
   "cell_type": "code",
   "execution_count": null,
   "id": "4ec9e3a3",
   "metadata": {},
   "outputs": [],
   "source": [
    "df = df.merge(snap, left_on=['fight', 'fighter'], right_on=['fight', 'fighter'], how='outer')\n",
    "df"
   ]
  },
  {
   "cell_type": "code",
   "execution_count": null,
   "id": "ee8b153e",
   "metadata": {},
   "outputs": [],
   "source": [
    "df.to_csv(f'./odds_data/{today_str}_{t_sport_keys[0]}.csv',index=False)"
   ]
  },
  {
   "cell_type": "code",
   "execution_count": null,
   "id": "3648f3b9",
   "metadata": {},
   "outputs": [],
   "source": [
    "df.to_clipboard()"
   ]
  },
  {
   "cell_type": "code",
   "execution_count": null,
   "id": "fdfc1ca7",
   "metadata": {},
   "outputs": [],
   "source": [
    "r2.headers['X-Requests-Used']"
   ]
  }
 ],
 "metadata": {
  "kernelspec": {
   "display_name": ".venv",
   "language": "python",
   "name": "python3"
  },
  "language_info": {
   "codemirror_mode": {
    "name": "ipython",
    "version": 3
   },
   "file_extension": ".py",
   "mimetype": "text/x-python",
   "name": "python",
   "nbconvert_exporter": "python",
   "pygments_lexer": "ipython3",
   "version": "3.12.10"
  }
 },
 "nbformat": 4,
 "nbformat_minor": 5
}
