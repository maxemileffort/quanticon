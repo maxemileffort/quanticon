{
 "cells": [
  {
   "cell_type": "code",
   "execution_count": 10,
   "id": "b9db8c4f",
   "metadata": {},
   "outputs": [
    {
     "data": {
      "text/plain": [
       "True"
      ]
     },
     "execution_count": 10,
     "metadata": {},
     "output_type": "execute_result"
    }
   ],
   "source": [
    "import pandas as pd\n",
    "import numpy as np\n",
    "import requests\n",
    "import os\n",
    "from dotenv import load_dotenv\n",
    "import json\n",
    "import matplotlib.pyplot as plt\n",
    "import seaborn as sns\n",
    "from datetime import datetime\n",
    "from sportsipy.nfl.teams import Teams as nflTeams\n",
    "from sportsipy.nba.teams import Teams as nbaTeams\n",
    "from sportsipy.mlb.teams import Teams as mlbTeams\n",
    "\n",
    "load_dotenv()"
   ]
  },
  {
   "cell_type": "code",
   "execution_count": 13,
   "id": "8d7fbd15",
   "metadata": {},
   "outputs": [
    {
     "name": "stdout",
     "output_type": "stream",
     "text": [
      "The requested page returned a valid response, but no data could be found. Has the season begun, and is the data available on www.sports-reference.com?\n"
     ]
    }
   ],
   "source": [
    "teams = nflTeams(2018)"
   ]
  },
  {
   "cell_type": "code",
   "execution_count": 8,
   "id": "e089f6a3",
   "metadata": {},
   "outputs": [],
   "source": [
    "for team in teams:\n",
    "    print(team.name, team.abbreviation)"
   ]
  },
  {
   "cell_type": "code",
   "execution_count": 12,
   "id": "20b0bf89",
   "metadata": {},
   "outputs": [
    {
     "name": "stdout",
     "output_type": "stream",
     "text": [
      "http://ufcstats.com/statistics/fighters?char=a\n",
      "http://ufcstats.com/statistics/fighters?char=b\n",
      "http://ufcstats.com/statistics/fighters?char=c\n",
      "http://ufcstats.com/statistics/fighters?char=d\n",
      "http://ufcstats.com/statistics/fighters?char=e\n",
      "http://ufcstats.com/statistics/fighters?char=f\n",
      "http://ufcstats.com/statistics/fighters?char=g\n",
      "http://ufcstats.com/statistics/fighters?char=h\n",
      "http://ufcstats.com/statistics/fighters?char=i\n",
      "http://ufcstats.com/statistics/fighters?char=j\n",
      "http://ufcstats.com/statistics/fighters?char=k\n",
      "http://ufcstats.com/statistics/fighters?char=l\n",
      "http://ufcstats.com/statistics/fighters?char=m\n",
      "http://ufcstats.com/statistics/fighters?char=n\n",
      "http://ufcstats.com/statistics/fighters?char=o\n",
      "http://ufcstats.com/statistics/fighters?char=p\n",
      "http://ufcstats.com/statistics/fighters?char=q\n",
      "http://ufcstats.com/statistics/fighters?char=r\n",
      "http://ufcstats.com/statistics/fighters?char=s\n",
      "http://ufcstats.com/statistics/fighters?char=t\n",
      "http://ufcstats.com/statistics/fighters?char=u\n",
      "http://ufcstats.com/statistics/fighters?char=v\n",
      "http://ufcstats.com/statistics/fighters?char=w\n",
      "http://ufcstats.com/statistics/fighters?char=x\n",
      "http://ufcstats.com/statistics/fighters?char=y\n",
      "http://ufcstats.com/statistics/fighters?char=z\n"
     ]
    }
   ],
   "source": [
    "import string\n",
    "for letter in list(string.ascii_lowercase):\n",
    "    print(f'http://ufcstats.com/statistics/fighters?char={letter}')\n"
   ]
  }
 ],
 "metadata": {
  "kernelspec": {
   "display_name": ".venv",
   "language": "python",
   "name": "python3"
  },
  "language_info": {
   "codemirror_mode": {
    "name": "ipython",
    "version": 3
   },
   "file_extension": ".py",
   "mimetype": "text/x-python",
   "name": "python",
   "nbconvert_exporter": "python",
   "pygments_lexer": "ipython3",
   "version": "3.12.10"
  }
 },
 "nbformat": 4,
 "nbformat_minor": 5
}
