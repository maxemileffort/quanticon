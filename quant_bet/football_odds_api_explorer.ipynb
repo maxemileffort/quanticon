{
 "cells": [
  {
   "cell_type": "code",
   "execution_count": 1,
   "id": "b9db8c4f",
   "metadata": {},
   "outputs": [
    {
     "data": {
      "text/plain": [
       "True"
      ]
     },
     "execution_count": 1,
     "metadata": {},
     "output_type": "execute_result"
    }
   ],
   "source": [
    "import pandas as pd\n",
    "import numpy as np\n",
    "import requests\n",
    "import os\n",
    "from dotenv import load_dotenv\n",
    "import json\n",
    "import matplotlib.pyplot as plt\n",
    "import seaborn as sns\n",
    "from datetime import datetime\n",
    "\n",
    "load_dotenv()"
   ]
  },
  {
   "cell_type": "code",
   "execution_count": null,
   "id": "d1e56e00",
   "metadata": {},
   "outputs": [
    {
     "ename": "",
     "evalue": "",
     "output_type": "error",
     "traceback": [
      "\u001b[1;31mnotebook controller is DISPOSED. \n",
      "\u001b[1;31mView Jupyter <a href='command:jupyter.viewOutput'>log</a> for further details."
     ]
    }
   ],
   "source": [
    "API_KEY = os.getenv('ODDS_API_KEY')\n",
    "BASE_URL = os.getenv('ODDS_API_BASE_URL')\n",
    "\n",
    "league_index = 1"
   ]
  },
  {
   "cell_type": "code",
   "execution_count": null,
   "id": "ba6b9f23",
   "metadata": {},
   "outputs": [
    {
     "ename": "",
     "evalue": "",
     "output_type": "error",
     "traceback": [
      "\u001b[1;31mnotebook controller is DISPOSED. \n",
      "\u001b[1;31mView Jupyter <a href='command:jupyter.viewOutput'>log</a> for further details."
     ]
    }
   ],
   "source": [
    "odds_api_get_sports = f'{BASE_URL}/v4/sports/?apiKey={API_KEY}'\n",
    "\n",
    "r = requests.get(odds_api_get_sports)"
   ]
  },
  {
   "cell_type": "code",
   "execution_count": null,
   "id": "b684e1f5",
   "metadata": {},
   "outputs": [
    {
     "ename": "",
     "evalue": "",
     "output_type": "error",
     "traceback": [
      "\u001b[1;31mnotebook controller is DISPOSED. \n",
      "\u001b[1;31mView Jupyter <a href='command:jupyter.viewOutput'>log</a> for further details."
     ]
    }
   ],
   "source": [
    "sport_keys = []\n",
    "for sport in r.json():\n",
    "    \n",
    "    print(sport['key'])\n",
    "    sport_keys.append(sport['key'])"
   ]
  },
  {
   "cell_type": "code",
   "execution_count": null,
   "id": "1485b03c",
   "metadata": {},
   "outputs": [
    {
     "ename": "",
     "evalue": "",
     "output_type": "error",
     "traceback": [
      "\u001b[1;31mnotebook controller is DISPOSED. \n",
      "\u001b[1;31mView Jupyter <a href='command:jupyter.viewOutput'>log</a> for further details."
     ]
    }
   ],
   "source": [
    "t_sport_keys = [sk for sk in sport_keys if sk.startswith('americanfootball')]\n",
    "t_sport_keys = [sk for sk in t_sport_keys if 'nfl' in sk or 'ncaaf' in sk]\n",
    "t_sport_keys = [sk for sk in t_sport_keys if 'winner' not in sk]\n",
    "t_sport_keys"
   ]
  },
  {
   "cell_type": "code",
   "execution_count": null,
   "id": "a34aa76e",
   "metadata": {},
   "outputs": [
    {
     "ename": "",
     "evalue": "",
     "output_type": "error",
     "traceback": [
      "\u001b[1;31mnotebook controller is DISPOSED. \n",
      "\u001b[1;31mView Jupyter <a href='command:jupyter.viewOutput'>log</a> for further details."
     ]
    }
   ],
   "source": [
    "odds_api_get_odds = f'{BASE_URL}/v4/sports/{t_sport_keys[league_index]}/odds/?apiKey={API_KEY}&regions=us,us2&markets=h2h,spreads,totals'\n",
    "odds_api_get_odds"
   ]
  },
  {
   "cell_type": "code",
   "execution_count": null,
   "id": "a8f064a5",
   "metadata": {},
   "outputs": [
    {
     "ename": "",
     "evalue": "",
     "output_type": "error",
     "traceback": [
      "\u001b[1;31mnotebook controller is DISPOSED. \n",
      "\u001b[1;31mView Jupyter <a href='command:jupyter.viewOutput'>log</a> for further details."
     ]
    }
   ],
   "source": [
    "r2 = requests.get(odds_api_get_odds)\n",
    "\n",
    "r2.json()"
   ]
  },
  {
   "cell_type": "code",
   "execution_count": null,
   "id": "e03addfe",
   "metadata": {},
   "outputs": [
    {
     "ename": "",
     "evalue": "",
     "output_type": "error",
     "traceback": [
      "\u001b[1;31mnotebook controller is DISPOSED. \n",
      "\u001b[1;31mView Jupyter <a href='command:jupyter.viewOutput'>log</a> for further details."
     ]
    }
   ],
   "source": [
    "for card in r2.json():\n",
    "    print(card)\n",
    "    print('========================')"
   ]
  },
  {
   "cell_type": "code",
   "execution_count": null,
   "id": "773f26f4",
   "metadata": {},
   "outputs": [
    {
     "ename": "",
     "evalue": "",
     "output_type": "error",
     "traceback": [
      "\u001b[1;31mnotebook controller is DISPOSED. \n",
      "\u001b[1;31mView Jupyter <a href='command:jupyter.viewOutput'>log</a> for further details."
     ]
    }
   ],
   "source": [
    "today_str = datetime.today().strftime('%Y-%m-%d')\n",
    "\n",
    "r2_text = json.dumps(r2.json())\n",
    "with open(f'./odds_data/{today_str}_{t_sport_keys[league_index]}_odds.txt','w') as outfile:\n",
    "    outfile.write(r2_text)"
   ]
  },
  {
   "cell_type": "code",
   "execution_count": null,
   "id": "0f355988",
   "metadata": {},
   "outputs": [
    {
     "ename": "",
     "evalue": "",
     "output_type": "error",
     "traceback": [
      "\u001b[1;31mnotebook controller is DISPOSED. \n",
      "\u001b[1;31mView Jupyter <a href='command:jupyter.viewOutput'>log</a> for further details."
     ]
    }
   ],
   "source": [
    "data = r2.json()"
   ]
  },
  {
   "cell_type": "code",
   "execution_count": null,
   "id": "152e6013",
   "metadata": {},
   "outputs": [
    {
     "ename": "",
     "evalue": "",
     "output_type": "error",
     "traceback": [
      "\u001b[1;31mnotebook controller is DISPOSED. \n",
      "\u001b[1;31mView Jupyter <a href='command:jupyter.viewOutput'>log</a> for further details."
     ]
    }
   ],
   "source": [
    "rows = []\n",
    "for event in data:\n",
    "    for bookmaker in event[\"bookmakers\"]:\n",
    "        for market in bookmaker[\"markets\"]:\n",
    "            market_send = ''\n",
    "            team_send = ''\n",
    "            \n",
    "            for outcome in market[\"outcomes\"]:\n",
    "                if market[\"key\"] == \"h2h\":\n",
    "                    market_send = \"h2h\"\n",
    "                    team_send = outcome[\"name\"]\n",
    "                elif market[\"key\"] in [\"totals\", \"spreads\"]:\n",
    "                    market_send = market[\"key\"]\n",
    "                    team_send = f'{outcome[\"name\"]} {outcome[\"point\"]}'\n",
    "                rows.append({\n",
    "                    \"game\": f\"{event['home_team']} vs {event['away_team']}\",\n",
    "                    \"commence_time\": event[\"commence_time\"],\n",
    "                    \"bookmaker\": bookmaker[\"title\"],\n",
    "                    \"team\": team_send,\n",
    "                    \"decimal_odds\": outcome[\"price\"],\n",
    "                    \"implied_prob\": 1.0 / float(outcome[\"price\"]),\n",
    "                    \"market\": market_send,\n",
    "                })\n",
    "            \n",
    "\n",
    "df = pd.DataFrame(rows)\n",
    "df['commence_time'] = pd.to_datetime(df['commence_time'])\n",
    "print(df.head(10))"
   ]
  },
  {
   "cell_type": "code",
   "execution_count": null,
   "id": "65e96b54",
   "metadata": {},
   "outputs": [
    {
     "ename": "",
     "evalue": "",
     "output_type": "error",
     "traceback": [
      "\u001b[1;31mnotebook controller is DISPOSED. \n",
      "\u001b[1;31mView Jupyter <a href='command:jupyter.viewOutput'>log</a> for further details."
     ]
    }
   ],
   "source": [
    "df_old = df.copy()\n",
    "# current date (UTC) + 8 days\n",
    "cutoff = pd.Timestamp.now(tz=\"UTC\") + pd.Timedelta(days=4)\n",
    "df = df.loc[df['commence_time'] <= cutoff].reset_index(drop=True)"
   ]
  },
  {
   "cell_type": "code",
   "execution_count": null,
   "id": "693236c6",
   "metadata": {},
   "outputs": [
    {
     "ename": "",
     "evalue": "",
     "output_type": "error",
     "traceback": [
      "\u001b[1;31mnotebook controller is DISPOSED. \n",
      "\u001b[1;31mView Jupyter <a href='command:jupyter.viewOutput'>log</a> for further details."
     ]
    }
   ],
   "source": [
    "# Pivot so teams are rows and bookmakers are columns\n",
    "for m in df['market'].unique():\n",
    "    sub_df = df.loc[df['market']==m]\n",
    "    pivot_df = sub_df.pivot_table(\n",
    "        index=[\"game\", \"team\", \"market\"],\n",
    "        columns=\"bookmaker\",\n",
    "        values=\"implied_prob\"\n",
    "    )\n",
    "\n",
    "    plt.figure(figsize=(12,16))\n",
    "    sns.heatmap(pivot_df, annot=True, cmap=\"coolwarm\", fmt=\".2f\")\n",
    "    plt.title(f\"{t_sport_keys[league_index]} Odds Across Bookmakers\")\n",
    "    plt.ylabel(\"Game / Team\")\n",
    "    plt.xlabel(\"Bookmaker\")\n",
    "    plt.show()\n"
   ]
  },
  {
   "cell_type": "code",
   "execution_count": null,
   "id": "81d2d58a",
   "metadata": {},
   "outputs": [
    {
     "ename": "",
     "evalue": "",
     "output_type": "error",
     "traceback": [
      "\u001b[1;31mnotebook controller is DISPOSED. \n",
      "\u001b[1;31mView Jupyter <a href='command:jupyter.viewOutput'>log</a> for further details."
     ]
    }
   ],
   "source": [
    "# 2) Fix the earlier bar plotting issue by pivoting (prevents overwrites)\n",
    "#    -> one grouped bar chart per game, all games automatically\n",
    "def plot_all_games_grouped(df: pd.DataFrame, value_col: str = \"decimal_odds\"):\n",
    "    games = df[\"game\"].unique()\n",
    "    for game in games:\n",
    "        sub = df[df[\"game\"] == game].copy()\n",
    "        # pivot: rows=team, cols=bookmaker\n",
    "        pivot = sub.pivot_table(index=\"team\", columns=\"bookmaker\", values=value_col, aggfunc=\"mean\")\n",
    "        # consistent bookmaker order\n",
    "        bookmakers = list(pivot.columns)\n",
    "        teams = list(pivot.index)\n",
    "\n",
    "        # grouped bars: x = bookmakers, 2 bars (or more) per bookmaker, one per team\n",
    "        x = np.arange(len(bookmakers))\n",
    "        width = 0.8 / max(2, len(teams))  # spread bars across each bookmaker\n",
    "\n",
    "        plt.figure(figsize=(10, 6))\n",
    "        for i, team in enumerate(teams):\n",
    "            y = pivot.loc[team, bookmakers].values.astype(float)\n",
    "            plt.bar(x + (i - (len(teams)-1)/2)*width, y, width=width, label=team)\n",
    "\n",
    "        yl = \"Decimal Odds\" if value_col == \"decimal_odds\" else \"Implied Probability\"\n",
    "        plt.title(f\"Odds across Books — {game}\")\n",
    "        plt.xlabel(\"Bookmaker\")\n",
    "        plt.ylabel(yl)\n",
    "        plt.xticks(x, bookmakers, rotation=35, ha=\"right\")\n",
    "        plt.legend()\n",
    "        plt.tight_layout()\n",
    "        plt.show()\n",
    "\n",
    "# Example: decimal odds charts for all games\n",
    "plot_all_games_grouped(df, value_col=\"decimal_odds\")\n"
   ]
  },
  {
   "cell_type": "code",
   "execution_count": null,
   "id": "a32b03ac",
   "metadata": {},
   "outputs": [
    {
     "ename": "",
     "evalue": "",
     "output_type": "error",
     "traceback": [
      "\u001b[1;31mnotebook controller is DISPOSED. \n",
      "\u001b[1;31mView Jupyter <a href='command:jupyter.viewOutput'>log</a> for further details."
     ]
    }
   ],
   "source": [
    "# Example: implied probabilities (0–1) for all games\n",
    "plot_all_games_grouped(df, value_col=\"implied_prob\")"
   ]
  },
  {
   "cell_type": "code",
   "execution_count": null,
   "id": "a90b3fa9",
   "metadata": {},
   "outputs": [
    {
     "ename": "",
     "evalue": "",
     "output_type": "error",
     "traceback": [
      "\u001b[1;31mnotebook controller is DISPOSED. \n",
      "\u001b[1;31mView Jupyter <a href='command:jupyter.viewOutput'>log</a> for further details."
     ]
    }
   ],
   "source": [
    "# 3) Optional: \"best price by team\" table (useful for line shopping)\n",
    "def best_prices(df: pd.DataFrame) -> pd.DataFrame:\n",
    "    idx = df.groupby([\"game\", \"team\"])[\"decimal_odds\"].idxmax()\n",
    "    best = df.loc[idx, [\"game\", \"team\", \"decimal_odds\", \"bookmaker\"]].sort_values([\"game\",\"team\"])\n",
    "    best = best.rename(columns={\"decimal_odds\": \"best_decimal\", \"bookmaker\": \"best_book\"})\n",
    "    return best.reset_index(drop=True)\n",
    "\n",
    "best_prices(df)\n"
   ]
  },
  {
   "cell_type": "code",
   "execution_count": null,
   "id": "c5d8ab19",
   "metadata": {},
   "outputs": [
    {
     "ename": "",
     "evalue": "",
     "output_type": "error",
     "traceback": [
      "\u001b[1;31mnotebook controller is DISPOSED. \n",
      "\u001b[1;31mView Jupyter <a href='command:jupyter.viewOutput'>log</a> for further details."
     ]
    }
   ],
   "source": [
    "# 4) Optional: quick market snapshot per game (favorite vs underdog, average prices)\n",
    "def market_snapshot(df: pd.DataFrame) -> pd.DataFrame:\n",
    "    # average decimal odds per team\n",
    "    avg = (df.groupby([\"game\", \"team\", \"market\"])[\"decimal_odds\"]\n",
    "             .mean()\n",
    "             .rename(\"avg_decimal\")\n",
    "             .reset_index())\n",
    "    # favorite/underdog label within each game\n",
    "    avg[\"rank\"] = avg.groupby([\"game\", \"market\"])[\"avg_decimal\"].rank(method=\"first\")\n",
    "    avg[\"role\"] = avg.groupby([\"game\", \"market\"])[\"avg_decimal\"].transform(lambda s: [\"favorite\" if x==s.min() else \"underdog\" for x in s])\n",
    "    return avg.sort_values([\"game\",\"role\",\"avg_decimal\"]).reset_index(drop=True)\n",
    "\n",
    "snap = market_snapshot(df)\n",
    "snap\n"
   ]
  },
  {
   "cell_type": "code",
   "execution_count": null,
   "id": "4ec9e3a3",
   "metadata": {},
   "outputs": [
    {
     "ename": "",
     "evalue": "",
     "output_type": "error",
     "traceback": [
      "\u001b[1;31mnotebook controller is DISPOSED. \n",
      "\u001b[1;31mView Jupyter <a href='command:jupyter.viewOutput'>log</a> for further details."
     ]
    }
   ],
   "source": [
    "df = df.merge(snap, left_on=['game', 'team','market'], right_on=['game', 'team', 'market'], how='outer')\n",
    "df"
   ]
  },
  {
   "cell_type": "code",
   "execution_count": null,
   "id": "4e9c2363",
   "metadata": {},
   "outputs": [
    {
     "ename": "",
     "evalue": "",
     "output_type": "error",
     "traceback": [
      "\u001b[1;31mnotebook controller is DISPOSED. \n",
      "\u001b[1;31mView Jupyter <a href='command:jupyter.viewOutput'>log</a> for further details."
     ]
    }
   ],
   "source": [
    "dk_games = df.loc[df['bookmaker']=='DraftKings', 'game'].unique()\n",
    "dk_games"
   ]
  },
  {
   "cell_type": "code",
   "execution_count": null,
   "id": "4a5677bc",
   "metadata": {},
   "outputs": [
    {
     "ename": "",
     "evalue": "",
     "output_type": "error",
     "traceback": [
      "\u001b[1;31mnotebook controller is DISPOSED. \n",
      "\u001b[1;31mView Jupyter <a href='command:jupyter.viewOutput'>log</a> for further details."
     ]
    }
   ],
   "source": [
    "target_df = df.loc[df['game'].isin(dk_games)]"
   ]
  },
  {
   "cell_type": "code",
   "execution_count": null,
   "id": "63dc7b53",
   "metadata": {},
   "outputs": [
    {
     "ename": "",
     "evalue": "",
     "output_type": "error",
     "traceback": [
      "\u001b[1;31mnotebook controller is DISPOSED. \n",
      "\u001b[1;31mView Jupyter <a href='command:jupyter.viewOutput'>log</a> for further details."
     ]
    }
   ],
   "source": [
    "df2 = target_df.loc[target_df['rank']==1.0]"
   ]
  },
  {
   "cell_type": "code",
   "execution_count": null,
   "id": "fb8dc519",
   "metadata": {},
   "outputs": [
    {
     "ename": "",
     "evalue": "",
     "output_type": "error",
     "traceback": [
      "\u001b[1;31mnotebook controller is DISPOSED. \n",
      "\u001b[1;31mView Jupyter <a href='command:jupyter.viewOutput'>log</a> for further details."
     ]
    }
   ],
   "source": [
    "plot_all_games_grouped(df2, value_col=\"implied_prob\")"
   ]
  },
  {
   "cell_type": "code",
   "execution_count": null,
   "id": "ee8b153e",
   "metadata": {},
   "outputs": [
    {
     "ename": "",
     "evalue": "",
     "output_type": "error",
     "traceback": [
      "\u001b[1;31mnotebook controller is DISPOSED. \n",
      "\u001b[1;31mView Jupyter <a href='command:jupyter.viewOutput'>log</a> for further details."
     ]
    }
   ],
   "source": [
    "df2['league'] = t_sport_keys[league_index]\n",
    "df2.to_csv(f'./odds_data/{today_str}_{t_sport_keys[league_index]}.csv',index=False)"
   ]
  },
  {
   "cell_type": "code",
   "execution_count": null,
   "id": "3648f3b9",
   "metadata": {},
   "outputs": [
    {
     "ename": "",
     "evalue": "",
     "output_type": "error",
     "traceback": [
      "\u001b[1;31mnotebook controller is DISPOSED. \n",
      "\u001b[1;31mView Jupyter <a href='command:jupyter.viewOutput'>log</a> for further details."
     ]
    }
   ],
   "source": [
    "df2.to_clipboard()"
   ]
  },
  {
   "cell_type": "code",
   "execution_count": null,
   "id": "fdfc1ca7",
   "metadata": {},
   "outputs": [
    {
     "ename": "",
     "evalue": "",
     "output_type": "error",
     "traceback": [
      "\u001b[1;31mnotebook controller is DISPOSED. \n",
      "\u001b[1;31mView Jupyter <a href='command:jupyter.viewOutput'>log</a> for further details."
     ]
    }
   ],
   "source": [
    "r2.headers['X-Requests-Used']"
   ]
  },
  {
   "cell_type": "code",
   "execution_count": null,
   "id": "c197c904",
   "metadata": {},
   "outputs": [
    {
     "ename": "",
     "evalue": "",
     "output_type": "error",
     "traceback": [
      "\u001b[1;31mnotebook controller is DISPOSED. \n",
      "\u001b[1;31mView Jupyter <a href='command:jupyter.viewOutput'>log</a> for further details."
     ]
    }
   ],
   "source": [
    "cutoff = pd.Timestamp.now(tz=\"UTC\") + pd.Timedelta(days=2)\n",
    "df2 = df2.loc[df2['commence_time'] <= cutoff].reset_index(drop=True)\n",
    "df2.head()"
   ]
  },
  {
   "cell_type": "code",
   "execution_count": null,
   "id": "40bf23ba",
   "metadata": {},
   "outputs": [
    {
     "ename": "",
     "evalue": "",
     "output_type": "error",
     "traceback": [
      "\u001b[1;31mnotebook controller is DISPOSED. \n",
      "\u001b[1;31mView Jupyter <a href='command:jupyter.viewOutput'>log</a> for further details."
     ]
    }
   ],
   "source": [
    "team_abrev_map = {\n",
    "        'ari': 'Arizona Cardinals'\n",
    "        , 'atl': 'Atlanta Falcons'\n",
    "        , 'bal': 'Baltimore Ravens'        \n",
    "        , 'buf': 'Buffalo Bills'\n",
    "        , 'car': 'Carolina Panthers'\n",
    "        , 'chi': 'Chicago Bears'\n",
    "        , 'cin': 'Cincinnati Bengals'\n",
    "        , 'cle': 'Cleveland Browns'\n",
    "        , 'dal': 'Dallas Cowboys'\n",
    "        , 'den': 'Denver Broncos'\n",
    "        , 'det': 'Detroit Lions'\n",
    "        , 'gb': 'Green Bay Packers'\n",
    "        , 'hou': 'Houston Texans'\n",
    "        , 'ind': 'Indianapolis Colts'\n",
    "        , 'jax': 'Jacksonville Jaguars'\n",
    "        , 'kan': 'Kansas City Chiefs'\n",
    "        , 'lv': 'Las Vegas Raiders'\n",
    "        , 'lac': 'Los Angeles Chargers'\n",
    "        , 'lar': 'Los Angeles Rams'\n",
    "        , 'mia': 'Miami Dolphins'\n",
    "        , 'min': 'Minnesota Vikings'\n",
    "        , 'ne': 'New England Patriots'\n",
    "        , 'no': 'New Orleans Saints'\n",
    "        , 'nyg': 'New York Giants'\n",
    "        , 'nyj': 'New York Jets'\n",
    "        , 'phi': 'Philadelphia Eagles'\n",
    "        , 'pit': 'Pittsburgh Steelers'\n",
    "        , 'sf': 'San Francisco 49ers'\n",
    "        , 'sea': 'Seattle Seahawks'\n",
    "        , 'tam': 'Tampa Bay Buccaneers'\n",
    "        , 'ten': 'Tennessee Titans'\n",
    "        , 'was': 'Washington Commanders'\n",
    "    }\n",
    "\n",
    "rev_team_abrev_map = {v:k for k,v in team_abrev_map.items()}"
   ]
  },
  {
   "cell_type": "code",
   "execution_count": null,
   "id": "4eee9226",
   "metadata": {},
   "outputs": [
    {
     "ename": "",
     "evalue": "",
     "output_type": "error",
     "traceback": [
      "\u001b[1;31mnotebook controller is DISPOSED. \n",
      "\u001b[1;31mView Jupyter <a href='command:jupyter.viewOutput'>log</a> for further details."
     ]
    }
   ],
   "source": [
    "from nfl_predict_game import predict_nfl_game_outcome"
   ]
  },
  {
   "cell_type": "code",
   "execution_count": null,
   "id": "e6ec06cb",
   "metadata": {},
   "outputs": [
    {
     "ename": "",
     "evalue": "",
     "output_type": "error",
     "traceback": [
      "\u001b[1;31mnotebook controller is DISPOSED. \n",
      "\u001b[1;31mView Jupyter <a href='command:jupyter.viewOutput'>log</a> for further details."
     ]
    }
   ],
   "source": [
    "games = []\n",
    "pred_text1_list = []\n",
    "pred_text2_list = []\n",
    "\n",
    "for game in df2['game'].unique():\n",
    "    teams = (game.split(' vs '))\n",
    "    print(teams)\n",
    "    team1 = rev_team_abrev_map[teams[0]]\n",
    "    print(team1)\n",
    "    team2 = rev_team_abrev_map[teams[1]]\n",
    "    print(team2)\n",
    "\n",
    "    games.append(game) \n",
    "    pred_text1 = predict_nfl_game_outcome(team1, team2, 2025, 1)\n",
    "    pred_text1_list.append(pred_text1)\n",
    "    pred_text2 = predict_nfl_game_outcome(team2, team1, 2025, 1)\n",
    "    pred_text2_list.append(pred_text2)"
   ]
  },
  {
   "cell_type": "code",
   "execution_count": null,
   "id": "92019a99",
   "metadata": {},
   "outputs": [
    {
     "ename": "",
     "evalue": "",
     "output_type": "error",
     "traceback": [
      "\u001b[1;31mnotebook controller is DISPOSED. \n",
      "\u001b[1;31mView Jupyter <a href='command:jupyter.viewOutput'>log</a> for further details."
     ]
    }
   ],
   "source": [
    "nfl_pred_outputs_path = os.path.join('./nfl_pred_outs', f'{today_str}_nfl_preds.txt')\n",
    "with open(nfl_pred_outputs_path, 'w') as outfile:\n",
    "    for a,b, c in zip(pred_text1_list, pred_text2_list, games):\n",
    "        outfile.write(c + a + '\\n' + b + '\\n==============\\n\\n')"
   ]
  }
 ],
 "metadata": {
  "kernelspec": {
   "display_name": ".venv",
   "language": "python",
   "name": "python3"
  },
  "language_info": {
   "codemirror_mode": {
    "name": "ipython",
    "version": 3
   },
   "file_extension": ".py",
   "mimetype": "text/x-python",
   "name": "python",
   "nbconvert_exporter": "python",
   "pygments_lexer": "ipython3",
   "version": "3.12.10"
  }
 },
 "nbformat": 4,
 "nbformat_minor": 5
}
